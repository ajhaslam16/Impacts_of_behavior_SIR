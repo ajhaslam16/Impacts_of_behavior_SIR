{
 "cells": [
  {
   "cell_type": "code",
   "execution_count": 26,
   "metadata": {},
   "outputs": [],
   "source": [
    "%matplotlib inline\n",
    "import numpy as np\n",
    "import scipy.optimize as optimization\n",
    "from scipy.optimize import minimize\n",
    "import matplotlib.pyplot as plt\n",
    "from scipy.integrate import odeint\n",
    "import matplotlib\n",
    "import arviz as az\n",
    "import theano\n",
    "import ODE_models\n",
    "import pandas as pd\n",
    "import scipy.integrate as integrate\n",
    "from scipy.integrate import quad\n",
    "plt.style.use('seaborn-darkgrid')"
   ]
  },
  {
   "cell_type": "code",
   "execution_count": 3,
   "metadata": {},
   "outputs": [],
   "source": [
    "#Read Data Files\n",
    "r_newyorkTSV = '../../newyork.tsv'\n",
    "w_newyorkTSV = '../../newyork.tsv'\n",
    "tsv_readny = pd.read_csv(\"newyork.tsv\", sep='\\t')\n",
    "cumulativeny = tsv_readny['confirmed'] #is this what I want?"
   ]
  },
  {
   "cell_type": "code",
   "execution_count": 4,
   "metadata": {},
   "outputs": [
    {
     "data": {
      "image/png": "[encoded data removed]",
      "text/plain": [
       "<Figure size 432x288 with 1 Axes>"
      ]
     },
     "metadata": {},
     "output_type": "display_data"
    }
   ],
   "source": [
    "#Plot the data and the model output\n",
    "\n",
    "params = ODE_models.get_params(beta_S=0.07641291, beta_A= 0.45767813, gamma= 0.2201679,nu=0.10223429, rho=2.0525167, q=  0.35182442,p= 0.60957564)\n",
    "## Set initial conditions\n",
    "Nny= 8.399e6\n",
    "yobsny = cumulativeny/Nny\n",
    "#Sn_0ny  = 1-(0.005+yobsny[0])\n",
    "#Sa_0  = 0.005\n",
    "#IS_0ny  = yobsny[0]\n",
    "Sn_0ny = .99\n",
    "Sa_0  =  .005\n",
    "IS_0ny  = .005\n",
    "IAn_0 = 0\n",
    "IAa_0 = 0\n",
    "RS_0  = 0\n",
    "RAn_0 = 0\n",
    "RAa_0 = 0\n",
    "M_0   = 0.01\n",
    "\n",
    "#newyork\n",
    "initial_stateny = np.array([Sn_0ny,Sa_0,IS_0ny,IAn_0,IAa_0,RS_0,RAn_0,RAa_0,M_0])\n",
    "timeny = np.arange(0,140,.001)\n",
    "timeobsny = np.arange(0,140,1)\n",
    "sim_systemny = odeint(ODE_models.SIRan_system, initial_stateny, timeny, args=(params,))\n",
    "\n",
    "\n",
    "\n",
    "yny =1-(sim_systemny[:,0]+sim_systemny[:,1])\n",
    "\n",
    "ypred = np.zeros(140)\n",
    "for i in range(0,140):\n",
    "    ind = np.where(timeny ==i)\n",
    "    ypred[i] = yny[ind]\n",
    "\n",
    "\n",
    "plt.plot(timeobsny,yobsny, color= 'red',marker='o', linestyle='none')\n",
    "plt.plot(timeny, yny, color='orange', alpha=0.5, label=f'$I(t)$')\n",
    "plt.plot(timeobsny, ypred, color='pink', alpha=0.5, label=f'$I(t)$')\n",
    "plt.legend()\n",
    "plt.title('New York')\n",
    "plt.show()"
   ]
  },
  {
   "cell_type": "code",
   "execution_count": 29,
   "metadata": {},
   "outputs": [],
   "source": [
    "#This is where the least squares is claculated for New York\n",
    "def SEfunc(params, xi, dealthdelt, gamma,p):\n",
    "    nu=params[3]\n",
    "    m = params[4]\n",
    "    beta_S=params[0]\n",
    "    beta_A = params[1]\n",
    "    q= params[2]\n",
    "    rho = params[5]\n",
    "    mu = params[6]\n",
    "    Sa_0 = params[7]\n",
    "    IS_0ny= params[8]\n",
    "    yobsny = np.array(cumulativeny/Nny)\n",
    "    Sn_0ny = 1-(Sa_0+IS_0ny)\n",
    "    IAn_0 = 0\n",
    "    IAa_0 = 0\n",
    "    RS_0  = 0\n",
    "    RAn_0 = 0\n",
    "    RAa_0 = 0\n",
    "    M_0   = 0.01\n",
    "    xi=(1/3)\n",
    "    dealthdelt=0.02\n",
    "    gamma=(1/2.8)\n",
    "    p =2/3\n",
    "    \n",
    "    og_params = ODE_models.get_params(beta_S=beta_S, beta_A= beta_A, q = q,nu = nu, m=m,rho=rho,mu=mu, xi= xi, dealthdelt= dealthdelt, gamma=gamma, p=p)\n",
    "\n",
    "   \n",
    "    initial_stateny = np.array([Sn_0ny,Sa_0,IS_0ny,IAn_0,IAa_0,RS_0,RAn_0,RAa_0,M_0])\n",
    "    timeny = np.arange(0,140,.001)\n",
    "    timeobsny = np.arange(0,140,1)\n",
    "    sim_systemny = odeint(ODE_models.SIRan_system, initial_stateny, timeny, args=(og_params,))\n",
    "    yny =1-(sim_systemny[:,0]+sim_systemny[:,1])\n",
    "    \n",
    "    ypred = np.zeros(140)\n",
    "    for i in range(0,140):\n",
    "        ind = np.where(timeny ==i)\n",
    "        ypred[i] = yny[ind]\n",
    "    \n",
    "    SE = (ypred-yobsny)**2\n",
    "    sumSE = sum(SE)\n",
    "    return(sumSE)\n",
    "\n",
    "\n"
   ]
  },
  {
   "cell_type": "code",
   "execution_count": null,
   "metadata": {},
   "outputs": [],
   "source": [
    "import random as random\n",
    "sims = int(1e2)\n",
    "ls = []\n",
    "for i in range(0,sims):\n",
    "    starting_points = np.zeros(9) #Beta_s, beta_a, q, nu, m, rho, mu, S-a(0), I_s(0)\n",
    "    starting_points[0] = random.randint(0,1)\n",
    "    starting_points[1] = random.randint(0,1)\n",
    "    starting_points[2] = random.randint(0,1)\n",
    "    starting_points[3] = random.randint(0,1)\n",
    "    starting_points[4] = random.randint(0,1)\n",
    "    starting_points[5] = random.randint(0,1)\n",
    "    starting_points[6] = random.randint(0,100)\n",
    "    starting_points[7] = random.randint(0,1)\n",
    "    starting_points[8] = random.randint(0,1)\n",
    "    least_sq = SEfunc(starting_points, xi = 1/3, dealthdelt= 0.02, gamma=1/2.8, p =2/3)\n",
    "    print(least_sq)\n",
    "    ls.append(least_sq)\n",
    "    \n",
    "    \n",
    "    \n"
   ]
  },
  {
   "cell_type": "code",
   "execution_count": null,
   "metadata": {},
   "outputs": [],
   "source": [
    "print(ls)"
   ]
  },
  {
   "cell_type": "code",
   "execution_count": null,
   "metadata": {},
   "outputs": [],
   "source": []
  },
  {
   "cell_type": "code",
   "execution_count": null,
   "metadata": {},
   "outputs": [],
   "source": []
  }
 ],
 "metadata": {
  "kernelspec": {
   "display_name": "Python 3",
   "language": "python",
   "name": "python3"
  },
  "language_info": {
   "codemirror_mode": {
    "name": "ipython",
    "version": 3
   },
   "file_extension": ".py",
   "mimetype": "text/x-python",
   "name": "python",
   "nbconvert_exporter": "python",
   "pygments_lexer": "ipython3",
   "version": "3.7.6"
  }
 },
 "nbformat": 4,
 "nbformat_minor": 4
}
