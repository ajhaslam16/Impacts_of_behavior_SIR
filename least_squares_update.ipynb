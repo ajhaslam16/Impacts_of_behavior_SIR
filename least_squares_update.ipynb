{
 "cells": [
  {
   "cell_type": "code",
   "execution_count": 8,
   "metadata": {},
   "outputs": [],
   "source": [
    "%matplotlib inline\n",
    "import numpy as np\n",
    "import scipy.optimize as optimization\n",
    "from scipy.optimize import minimize\n",
    "import matplotlib.pyplot as plt\n",
    "from scipy.integrate import odeint\n",
    "import matplotlib\n",
    "import arviz as az\n",
    "import theano\n",
    "import ODE_models_forls\n",
    "import pandas as pd\n",
    "import scipy.integrate as integrate\n",
    "from scipy.integrate import quad\n",
    "plt.style.use('seaborn-darkgrid')"
   ]
  },
  {
   "cell_type": "code",
   "execution_count": 9,
   "metadata": {},
   "outputs": [],
   "source": [
    "#Read Data Files\n",
    "r_newyorkTSV = '../../newyork.tsv'\n",
    "w_newyorkTSV = '../../newyork.tsv'\n",
    "tsv_readny = pd.read_csv(\"newyork.tsv\", sep='\\t')\n",
    "cumulativeny = tsv_readny['confirmed'] #is this what I want?"
   ]
  },
  {
   "cell_type": "code",
   "execution_count": 17,
   "metadata": {},
   "outputs": [
    {
     "data": {
      "image/png": "[encoded data removed]",
      "text/plain": [
       "<Figure size 432x288 with 1 Axes>"
      ]
     },
     "metadata": {},
     "output_type": "display_data"
    }
   ],
   "source": [
    "#Plot the data and the model output\n",
    "params = ODE_models_forls.get_params(beta_S=0.10190424, beta_A= 0.17231283,q=0.57370648, nu = 0.05461374, m =0.19812869,rho=11.35080311, mu = 0.89205848)\n",
    "## Set initial conditions\n",
    "Nny= 8.399e6\n",
    "yobsny = cumulativeny/Nny\n",
    "#Sn_0ny  = 1-(0.005+yobsny[0])\n",
    "#Sa_0  = 0.005\n",
    "#IS_0ny  = yobsny[0]\n",
    "Sn_0ny = 1-(Sa_0+IS_0ny)\n",
    "Sa_0  =  0.97532945\n",
    "IS_0ny  = 0.0133901\n",
    "IAn_0 = 0\n",
    "IAa_0 = 0\n",
    "RS_0  = 0\n",
    "RAn_0 = 0\n",
    "RAa_0 = 0\n",
    "M_0   = 0.01\n",
    "\n",
    "#newyork\n",
    "initial_stateny = np.array([Sn_0ny,Sa_0,IS_0ny,IAn_0,IAa_0,RS_0,RAn_0,RAa_0,M_0])\n",
    "timeny = np.arange(0,140,.001)\n",
    "timeobsny = np.arange(0,140,1)\n",
    "sim_systemny = odeint(ODE_models_forls.SIRan_system, initial_stateny, timeny, args=(params,))\n",
    "\n",
    "\n",
    "\n",
    "yny =1-(sim_systemny[:,0]+sim_systemny[:,1])\n",
    "\n",
    "ypred = np.zeros(140)\n",
    "for i in range(0,140):\n",
    "    ind = np.where(timeny ==i)\n",
    "    ypred[i] = yny[ind]\n",
    "\n",
    "\n",
    "plt.plot(timeobsny,yobsny, color= 'red',marker='o', linestyle='none')\n",
    "plt.plot(timeny, yny, color='orange', alpha=0.5, label=f'$I(t)$')\n",
    "plt.plot(timeobsny, ypred, color='pink', alpha=0.5, label=f'$I(t)$')\n",
    "plt.legend()\n",
    "plt.title('New York')\n",
    "plt.show()"
   ]
  },
  {
   "cell_type": "code",
   "execution_count": 12,
   "metadata": {},
   "outputs": [],
   "source": [
    "#This is where the least squares is claculated for New York\n",
    "def SEfunc(params):\n",
    "    #SEfunc is a function that takes the parameters of the ODE models as an input and outputs the least squares value for the function at that time\n",
    "    #What I need is a fucntion that computes the least squares at the starting points for the values? I.e. if the function\n",
    "    #remained at those initial guesses\n",
    "    beta_S=params[0]\n",
    "    beta_A = params[1]\n",
    "    q= params[2]\n",
    "    nu=params[3]\n",
    "    m = params[4]\n",
    "    rho = params[5]\n",
    "    mu = params[6]\n",
    "    Sa_0 = params[7]\n",
    "    IS_0ny= params[8]\n",
    "    yobsny = np.array(cumulativeny/Nny)\n",
    "    Sn_0ny = 1-(Sa_0+IS_0ny)\n",
    "    IAn_0 = 0\n",
    "    IAa_0 = 0\n",
    "    RS_0  = 0\n",
    "    RAn_0 = 0\n",
    "    RAa_0 = 0\n",
    "    M_0   = 0.01\n",
    "    \n",
    "    \n",
    "    se_params = ODE_models_forls.get_params(beta_S=beta_S, beta_A= beta_A, q = q,nu = nu, m=m,rho=rho,mu=mu)\n",
    "\n",
    "   \n",
    "    initial_stateny = np.array([Sn_0ny,Sa_0,IS_0ny,IAn_0,IAa_0,RS_0,RAn_0,RAa_0,M_0])\n",
    "    timeny = np.arange(0,140,.001)\n",
    "    timeobsny = np.arange(0,140,1)\n",
    "    sim_systemny = odeint(ODE_models_forls.SIRan_system, initial_stateny, timeny, args=(se_params,))\n",
    "    yny =1-(sim_systemny[:,0]+sim_systemny[:,1])\n",
    "    \n",
    "    ypred = np.zeros(140)\n",
    "    for i in range(0,140):\n",
    "        ind = np.where(timeny ==i)\n",
    "        ypred[i] = yny[ind]\n",
    "    \n",
    "    SE = (ypred-yobsny)**2\n",
    "    sumSE = sum(SE)\n",
    "    return(sumSE)\n",
    "\n",
    "\n"
   ]
  },
  {
   "cell_type": "code",
   "execution_count": 13,
   "metadata": {},
   "outputs": [
    {
     "name": "stderr",
     "output_type": "stream",
     "text": [
      "/opt/anaconda3/lib/python3.7/site-packages/scipy/integrate/odepack.py:248: ODEintWarning: Excess work done on this call (perhaps wrong Dfun type). Run with full_output = 1 to get quantitative information.\n",
      "  warnings.warn(warning_msg, ODEintWarning)\n"
     ]
    }
   ],
   "source": [
    "import random as random\n",
    "sims = int(1e2)\n",
    "values = np.zeros((10,sims))\n",
    "for i in range(0,sims):\n",
    "    starting_points = np.zeros(9) #Beta_s, beta_a, q, nu, m, rho, mu, S-a(0), I_s(0)\n",
    "    starting_points[0] = np.random.uniform(0,1)\n",
    "    starting_points[1] = np.random.uniform(0,1)\n",
    "    starting_points[2] = np.random.uniform(0,1)\n",
    "    starting_points[3] = np.random.uniform(0,1)\n",
    "    starting_points[4] = np.random.uniform(0,1)\n",
    "    starting_points[5] = np.random.uniform(0,100)\n",
    "    starting_points[6] = np.random.uniform(0,1)\n",
    "    starting_points[7] = np.random.uniform(0,1)\n",
    "    starting_points[8] = np.random.uniform(0,1)\n",
    "    least_sq = SEfunc(starting_points)\n",
    "    values[0:8,i] = starting_points[0:8]\n",
    "    values[9,i] = least_sq\n",
    "    \n",
    "    \n",
    "    \n"
   ]
  },
  {
   "cell_type": "code",
   "execution_count": 14,
   "metadata": {},
   "outputs": [
    {
     "name": "stdout",
     "output_type": "stream",
     "text": [
      "44\n",
      "[4.30837302e-03 1.48366009e-01 5.71901691e-01 5.01507205e-02\n",
      " 2.00009243e-01 1.13701458e+01 9.00532628e-01 9.79967792e-01\n",
      " 0.00000000e+00 2.86556540e+00]\n"
     ]
    }
   ],
   "source": [
    "least = list(values[9])\n",
    "x=min(least)\n",
    "minimum = least.index(x)\n",
    "print(minimum)\n",
    "print(values[:,minimum])\n",
    "x0_ = values[:,minimum]"
   ]
  },
  {
   "cell_type": "markdown",
   "metadata": {},
   "source": [
    "Starting values to run the least squares code on should be: \n",
    "$$\\beta_S = 0.2351789$$\n",
    "$$\\beta_A = 0.46373967$$\n",
    "$$q =  0.36396384  $$\n",
    "$$nu =  0.4011308 $$\n",
    "$$m = 0.98983561$$\n",
    "$$rho = 42.34312919$$\n",
    "$$mu = 0.97572124$$\n",
    "$$Sa_0 =  0.17790549$$\n",
    "$$Is_0 = 0$$\n",
    "\n",
    "\n"
   ]
  },
  {
   "cell_type": "code",
   "execution_count": 15,
   "metadata": {},
   "outputs": [],
   "source": [
    "x0=x0_[:9]\n",
    "\n",
    "result= optimization.least_squares(SEfunc, x0,bounds=(np.zeros(9),np.array([1,1,1,1,1,np.inf,1,1,1])))"
   ]
  },
  {
   "cell_type": "code",
   "execution_count": 16,
   "metadata": {},
   "outputs": [
    {
     "name": "stdout",
     "output_type": "stream",
     "text": [
      " active_mask: array([0, 0, 0, 0, 0, 0, 0, 0, 0])\n",
      "        cost: 0.00034441780622930095\n",
      "         fun: array([0.02624568])\n",
      "        grad: array([2.76533605e-02, 3.10321152e-02, 7.79365224e-03, 8.39920218e-03,\n",
      "       3.29709182e-02, 1.66016268e-06, 3.30502249e-02, 3.78531983e-05,\n",
      "       1.18553001e-02])\n",
      "         jac: array([[1.05363483e+00, 1.18237049e+00, 2.96949930e-01, 3.20022298e-01,\n",
      "        1.25624182e+00, 6.32547073e-05, 1.25926352e+00, 1.44226407e-03,\n",
      "        4.51704853e-01]])\n",
      "     message: '`xtol` termination condition is satisfied.'\n",
      "        nfev: 57\n",
      "        njev: 43\n",
      "  optimality: 0.029482733308366\n",
      "      status: 3\n",
      "     success: True\n",
      "           x: array([ 0.10190424,  0.17231283,  0.57370648,  0.05461374,  0.19812869,\n",
      "       11.35080311,  0.89205848,  0.97532945,  0.0133901 ])\n"
     ]
    }
   ],
   "source": [
    "print(result)"
   ]
  },
  {
   "cell_type": "code",
   "execution_count": 19,
   "metadata": {},
   "outputs": [
    {
     "data": {
      "text/plain": [
       "0.011280449999999997"
      ]
     },
     "execution_count": 19,
     "metadata": {},
     "output_type": "execute_result"
    }
   ],
   "source": []
  },
  {
   "cell_type": "code",
   "execution_count": null,
   "metadata": {},
   "outputs": [],
   "source": []
  }
 ],
 "metadata": {
  "kernelspec": {
   "display_name": "Python 3",
   "language": "python",
   "name": "python3"
  },
  "language_info": {
   "codemirror_mode": {
    "name": "ipython",
    "version": 3
   },
   "file_extension": ".py",
   "mimetype": "text/x-python",
   "name": "python",
   "nbconvert_exporter": "python",
   "pygments_lexer": "ipython3",
   "version": "3.7.6"
  }
 },
 "nbformat": 4,
 "nbformat_minor": 4
}
