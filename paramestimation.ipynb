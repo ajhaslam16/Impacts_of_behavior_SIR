{
 "cells": [
  {
   "cell_type": "code",
   "execution_count": 3,
   "metadata": {},
   "outputs": [],
   "source": [
    "%matplotlib inline\n",
    "import pymc3 as pm\n",
    "from pymc3.ode import DifferentialEquation\n",
    "import numpy as np\n",
    "import matplotlib.pyplot as plt\n",
    "from scipy.integrate import odeint\n",
    "import arviz as az\n",
    "import theano\n",
    "import ODE_models\n",
    "import pandas as pd\n",
    "import scipy.integrate as integrate\n",
    "from scipy.integrate import quad\n",
    "plt.style.use('seaborn-darkgrid')"
   ]
  },
  {
   "cell_type": "markdown",
   "metadata": {},
   "source": [
    "The New York Data came from:\n",
    "https://www1.nyc.gov/site/doh/covid/covid-19-data.page"
   ]
  },
  {
   "cell_type": "code",
   "execution_count": 4,
   "metadata": {},
   "outputs": [],
   "source": [
    "\n",
    "r_newyorkTSV = '../../newyork.tsv'\n",
    "w_newyorkTSV = '../../newyork.tsv'\n",
    "tsv_readny = pd.read_csv(\"newyork.tsv\", sep='\\t')\n",
    "cumulativeny = tsv_readny['confirmed'] #is this what I want?\n"
   ]
  },
  {
   "cell_type": "code",
   "execution_count": 5,
   "metadata": {},
   "outputs": [],
   "source": [
    "recovery_days = 7 # average length of infection (current baseline from 2012)\n",
    "gamma = 1/recovery_days # rate of recovery\n",
    "\n",
    "beta_S = 0.31 # infection rate for symptomatic infectives\n",
    "beta_A = 0.37 # infection rate for asymptomatic infectives\n",
    "\n",
    "q = .80209   # reduction factor for those with altered/adjusted behavior\n",
    "p = 2/3   # probability of developing symptoms\n",
    "\n",
    "   # average length of memory regarding active cases\n",
    "nu  = 1/7  # rate of forgetting past \"new case\" counts\n",
    "\n",
    "M_thresh = 0.01 # risk threshold \n",
    "m = 1/M_thresh\n",
    "\n",
    "rho = 10 # speed of behavioral changes (1/days)\n",
    "\n",
    "mu = 10**(-8)  # irrational exploration with fixed units\n"
   ]
  },
  {
   "cell_type": "code",
   "execution_count": 6,
   "metadata": {},
   "outputs": [
    {
     "data": {
      "image/png": "[encoded data removed]",
      "text/plain": [
       "<Figure size 432x288 with 1 Axes>"
      ]
     },
     "metadata": {},
     "output_type": "display_data"
    }
   ],
   "source": [
    "params = ODE_models.get_params(gamma,beta_S, beta_A, q, p, nu, m, rho, mu)\n",
    "## Set initial conditions\n",
    "Nny= 8.399e6\n",
    "yobsny = cumulativeny/Nny\n",
    "Sn_0ny  = 1-(0.005+yobsny[1]/Nny)\n",
    "Sa_0  = 0.005\n",
    "IS_0ny  = yobsny[1]/Nny\n",
    "IAn_0 = 0\n",
    "IAa_0 = 0\n",
    "RS_0  = 0\n",
    "RAn_0 = 0\n",
    "RAa_0 = 0\n",
    "M_0   = 0.01\n",
    "\n",
    "#newyork\n",
    "initial_stateny = np.array([Sn_0ny,Sa_0,IS_0ny,IAn_0,IAa_0,RS_0,RAn_0,RAa_0,M_0])\n",
    "timeny = np.arange(0,140,.001)\n",
    "timeobsny = np.arange(0,140,1)\n",
    "sim_systemny = odeint(ODE_models.SIRan_system, initial_stateny, timeny, args=(params,))\n",
    "\n",
    "\n",
    "\n",
    "yny =1-(sim_systemny[:,0]+sim_systemny[:,1])\n",
    "\n",
    "\n",
    "\n",
    "\n",
    "plt.plot(timeobsny,yobsny, color= 'red',marker='o', linestyle='none')\n",
    "plt.plot(timeny, yny, color='orange', alpha=0.5, label=f'$I(t)$')\n",
    "plt.legend()\n",
    "plt.title('New York')\n",
    "plt.show()\n",
    "\n"
   ]
  },
  {
   "cell_type": "code",
   "execution_count": 37,
   "metadata": {},
   "outputs": [],
   "source": [
    "#Least squares method\n",
    "yny =1-(sim_systemny[:,0]+sim_systemny[:,1])\n",
    "yobsny = np.array(cumulativeny/Nny)\n",
    "ypred = np.zeros(140)\n",
    "for i in range(0,140):\n",
    "    ind = np.where(timeny ==i)\n",
    "    ypred[i] = yny[ind]\n",
    "    \n",
    "SE = (ypred-yobsny)**2\n",
    "sumSE = sum(SE)"
   ]
  },
  {
   "cell_type": "code",
   "execution_count": null,
   "metadata": {},
   "outputs": [],
   "source": [
    "#California\n",
    "\n",
    "r_californiaTSV = '../../california.tsv'\n",
    "w_californiaTSV = '../../california.tsv'\n",
    "tsv_read = pd.read_csv(\"california.tsv\", sep='\\t')\n",
    "cumulativeca = tsv_read['confirmed'] #is this what I want?\n",
    "california_pop = 39.51e6\n",
    "Nca = california_pop\n",
    "Sn_0  = 1-(Sa_0+yobsca[1]/Nca)\n",
    "Sa_0  = 0.005\n",
    "IS_0  = yobsca[1]/Nca\n",
    "IAn_0 = 0\n",
    "IAa_0 = 0\n",
    "RS_0  = 0\n",
    "RAn_0 = 0\n",
    "RAa_0 = 0\n",
    "M_0   = 0.01\n",
    "# Simulate the ODE\n",
    "initial_state = np.array([Sn_0,Sa_0,IS_0,IAn_0,IAa_0,RS_0,RAn_0,RAa_0,M_0])\n",
    "time = np.arange(0,176,.001)\n",
    "timeobs = np.arange(0,176,1)\n",
    "sim_system = odeint(ODE_models.SIRan_system, initial_state, time, args=(params,))\n",
    "\n",
    "y =1-(sim_system[:,0]+sim_system[:,1]) #take the integral of this from start to current time\n",
    "    \n",
    "yobsca = cumulativeca/Nca\n",
    "plt.plot(timeobs,yobsca, marker='o', linestyle='none')\n",
    "plt.plot(time, y, color='C0', alpha=0.5, label=f'$I(t)$')\n",
    "plt.legend()\n",
    "plt.title('California Cumulative')\n",
    "plt.show()\n"
   ]
  },
  {
   "cell_type": "code",
   "execution_count": 36,
   "metadata": {},
   "outputs": [
    {
     "data": {
      "text/plain": [
       "array([1.41757072e-14, 1.41757060e-14, 5.67028304e-14, 1.71526090e-12,\n",
       "       6.86104370e-12, 2.74441751e-11, 1.12285802e-10, 1.59278282e-10,\n",
       "       2.85839025e-10, 4.24264837e-10, 6.67520028e-10, 1.50653780e-09,\n",
       "       2.51251710e-09, 5.27478187e-09, 7.59568589e-09, 1.27935787e-08,\n",
       "       2.68009526e-08, 8.07699239e-08, 2.45437132e-07, 7.17216800e-07,\n",
       "       1.52470599e-06, 3.26998691e-06, 6.19149960e-06, 9.36582982e-06,\n",
       "       1.55470077e-05, 2.16254344e-05, 2.83826717e-05, 4.06002172e-05,\n",
       "       5.06640900e-05, 6.45957363e-05, 8.23341786e-05, 1.00892565e-04,\n",
       "       1.23556763e-04, 1.52408858e-04, 1.90626696e-04, 2.18264652e-04,\n",
       "       2.52223106e-04, 2.84644585e-04, 3.24381585e-04, 3.72192711e-04,\n",
       "       4.23431434e-04, 4.74678487e-04, 5.19448082e-04, 5.55592997e-04,\n",
       "       5.97915741e-04, 6.68320063e-04, 7.22508022e-04, 7.71521883e-04,\n",
       "       8.20213035e-04, 8.63033138e-04, 8.97415819e-04, 9.28525872e-04,\n",
       "       9.70041741e-04, 1.01763959e-03, 1.08155541e-03, 1.16683365e-03,\n",
       "       1.21625622e-03, 1.25034940e-03, 1.27816244e-03, 1.31864349e-03,\n",
       "       1.35961513e-03, 1.39388726e-03, 1.43471273e-03, 1.46826996e-03,\n",
       "       1.49139026e-03, 1.51263447e-03, 1.53817267e-03, 1.57127848e-03,\n",
       "       1.59851382e-03, 1.62446638e-03, 1.64505046e-03, 1.66063656e-03,\n",
       "       1.67461963e-03, 1.69537086e-03, 1.71862806e-03, 1.74597165e-03,\n",
       "       1.76777946e-03, 1.78686267e-03, 1.79937539e-03, 1.81434481e-03,\n",
       "       1.82936587e-03, 1.85058973e-03, 1.86781694e-03, 1.88590945e-03,\n",
       "       1.90249930e-03, 1.91580371e-03, 1.92669681e-03, 1.93854257e-03,\n",
       "       1.95701255e-03, 1.97335753e-03, 1.98779397e-03, 1.99952267e-03,\n",
       "       2.00958628e-03, 2.02412697e-03, 2.03529958e-03, 2.04660725e-03,\n",
       "       2.05782318e-03, 2.06950850e-03, 2.07789784e-03, 2.08558984e-03,\n",
       "       2.09304766e-03, 2.10022372e-03, 2.10805478e-03, 2.11694720e-03,\n",
       "       2.12683818e-03, 2.13432955e-03, 2.14102356e-03, 2.14777170e-03,\n",
       "       2.15372649e-03, 2.16035956e-03, 2.16880599e-03, 2.17622959e-03,\n",
       "       2.18311150e-03, 2.18867334e-03, 2.19459440e-03, 2.20011290e-03,\n",
       "       2.20727550e-03, 2.21496557e-03, 2.22119712e-03, 2.22629086e-03,\n",
       "       2.22837608e-03, 2.23074053e-03, 2.23444574e-03, 2.24021077e-03,\n",
       "       2.24567779e-03, 2.24795221e-03, 2.24687873e-03, 2.24411654e-03,\n",
       "       2.24042743e-03, 2.23575719e-03, 2.22738161e-03, 2.21822087e-03,\n",
       "       2.20469009e-03, 2.18624725e-03, 2.16126160e-03, 2.13399028e-03,\n",
       "       2.09847891e-03, 2.05355815e-03, 1.99858871e-03, 1.93151072e-03])"
      ]
     },
     "execution_count": 36,
     "metadata": {},
     "output_type": "execute_result"
    }
   ],
   "source": [
    "SE"
   ]
  },
  {
   "cell_type": "code",
   "execution_count": null,
   "metadata": {},
   "outputs": [],
   "source": []
  }
 ],
 "metadata": {
  "kernelspec": {
   "display_name": "Python 3",
   "language": "python",
   "name": "python3"
  },
  "language_info": {
   "codemirror_mode": {
    "name": "ipython",
    "version": 3
   },
   "file_extension": ".py",
   "mimetype": "text/x-python",
   "name": "python",
   "nbconvert_exporter": "python",
   "pygments_lexer": "ipython3",
   "version": "3.7.6"
  }
 },
 "nbformat": 4,
 "nbformat_minor": 4
}
