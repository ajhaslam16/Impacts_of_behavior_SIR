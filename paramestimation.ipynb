{
 "cells": [
  {
   "cell_type": "code",
   "execution_count": 45,
   "metadata": {},
   "outputs": [],
   "source": [
    "%matplotlib inline\n",
    "import pymc3 as pm\n",
    "from pymc3.ode import DifferentialEquation\n",
    "import numpy as np\n",
    "import matplotlib.pyplot as plt\n",
    "from scipy.integrate import odeint\n",
    "import arviz as az\n",
    "import theano\n",
    "import ODE_models\n",
    "import pandas as pd\n",
    "import scipy.integrate as integrate\n",
    "from scipy.integrate import quad\n",
    "plt.style.use('seaborn-darkgrid')"
   ]
  },
  {
   "cell_type": "markdown",
   "metadata": {},
   "source": [
    "The New York Data came from:\n",
    "https://www1.nyc.gov/site/doh/covid/covid-19-data.page"
   ]
  },
  {
   "cell_type": "code",
   "execution_count": 46,
   "metadata": {},
   "outputs": [],
   "source": [
    "\n",
    "r_newyorkTSV = '../../newyork.tsv'\n",
    "w_newyorkTSV = '../../newyork.tsv'\n",
    "tsv_readny = pd.read_csv(\"newyork.tsv\", sep='\\t')\n",
    "cumulativeny = tsv_readny['confirmed'] #is this what I want?"
   ]
  },
  {
   "cell_type": "code",
   "execution_count": 47,
   "metadata": {},
   "outputs": [],
   "source": [
    "recovery_days = 7 # average length of infection (current baseline from 2012)\n",
    "gamma = 1/recovery_days # rate of recovery\n",
    "\n",
    "beta_S = 0.31 # infection rate for symptomatic infectives\n",
    "beta_A = 0.37 # infection rate for asymptomatic infectives\n",
    "\n",
    "q = .80209   # reduction factor for those with altered/adjusted behavior\n",
    "p = 2/3   # probability of developing symptoms\n",
    "\n",
    "   # average length of memory regarding active cases\n",
    "nu  = 1/7  # rate of forgetting past \"new case\" counts\n",
    "\n",
    "M_thresh = 0.01 # risk threshold \n",
    "m = 1/M_thresh\n",
    "\n",
    "rho = 10 # speed of behavioral changes (1/days)\n",
    "\n",
    "mu = 10**(-8)  # irrational exploration with fixed units\n"
   ]
  },
  {
   "cell_type": "code",
   "execution_count": 48,
   "metadata": {},
   "outputs": [
    {
     "data": {
      "image/png": "[encoded data removed]",
      "text/plain": [
       "<Figure size 432x288 with 1 Axes>"
      ]
     },
     "metadata": {},
     "output_type": "display_data"
    }
   ],
   "source": [
    "params = ODE_models.get_params(gamma,beta_S, beta_A, q, p, nu, m, rho, mu)\n",
    "## Set initial conditions\n",
    "Nny= 8.399e6\n",
    "Sn_0ny  = 1-(0.005+yobsny[1]/Nny)\n",
    "Sa_0  = 0.005\n",
    "IS_0ny  = yobsny[1]/Nny\n",
    "IAn_0 = 0\n",
    "IAa_0 = 0\n",
    "RS_0  = 0\n",
    "RAn_0 = 0\n",
    "RAa_0 = 0\n",
    "M_0   = 0.01\n",
    "\n",
    "#newyork\n",
    "initial_stateny = np.array([Sn_0ny,Sa_0,IS_0ny,IAn_0,IAa_0,RS_0,RAn_0,RAa_0,M_0])\n",
    "timeny = np.arange(0,140,.001)\n",
    "timeobsny = np.arange(0,140,1)\n",
    "sim_systemny = odeint(ODE_models.SIRan_system, initial_stateny, timeny, args=(params,))\n",
    "\n",
    "\n",
    "\n",
    "yny =1-(sim_systemny[:,0]+sim_systemny[:,1])\n",
    "yobsny = cumulativeny/Nny\n",
    "\n",
    "\n",
    "\n",
    "plt.plot(timeobsny,yobsny, color= 'red',marker='o', linestyle='none')\n",
    "plt.plot(timeny, yny, color='orange', alpha=0.5, label=f'$I(t)$')\n",
    "plt.legend()\n",
    "plt.title('New York')\n",
    "plt.show()\n",
    "\n"
   ]
  },
  {
   "cell_type": "code",
   "execution_count": 52,
   "metadata": {},
   "outputs": [
    {
     "ename": "error",
     "evalue": "Extra arguments must be in a tuple",
     "output_type": "error",
     "traceback": [
      "\u001b[0;31m---------------------------------------------------------------------------\u001b[0m",
      "\u001b[0;31merror\u001b[0m                                     Traceback (most recent call last)",
      "\u001b[0;32m<ipython-input-52-c88eb4ca172d>\u001b[0m in \u001b[0;36m<module>\u001b[0;34m\u001b[0m\n\u001b[1;32m      7\u001b[0m     \u001b[0msigma\u001b[0m \u001b[0;34m=\u001b[0m \u001b[0mpm\u001b[0m\u001b[0;34m.\u001b[0m\u001b[0mHalfNormal\u001b[0m\u001b[0;34m(\u001b[0m\u001b[0;34m'sigma'\u001b[0m\u001b[0;34m,\u001b[0m \u001b[0msigma\u001b[0m\u001b[0;34m=\u001b[0m\u001b[0;36m1\u001b[0m\u001b[0;34m)\u001b[0m\u001b[0;34m\u001b[0m\u001b[0;34m\u001b[0m\u001b[0m\n\u001b[1;32m      8\u001b[0m \u001b[0mparams\u001b[0m \u001b[0;34m=\u001b[0m \u001b[0mODE_models\u001b[0m\u001b[0;34m.\u001b[0m\u001b[0mget_params\u001b[0m\u001b[0;34m(\u001b[0m\u001b[0mrho\u001b[0m \u001b[0;34m,\u001b[0m \u001b[0mnu\u001b[0m\u001b[0;34m)\u001b[0m\u001b[0;34m\u001b[0m\u001b[0;34m\u001b[0m\u001b[0m\n\u001b[0;32m----> 9\u001b[0;31m \u001b[0msim_systemny\u001b[0m \u001b[0;34m=\u001b[0m \u001b[0modeint\u001b[0m\u001b[0;34m(\u001b[0m\u001b[0mODE_models\u001b[0m\u001b[0;34m.\u001b[0m\u001b[0mSIRan_system\u001b[0m\u001b[0;34m,\u001b[0m \u001b[0minitial_stateny\u001b[0m\u001b[0;34m,\u001b[0m \u001b[0mtimeny\u001b[0m\u001b[0;34m,\u001b[0m \u001b[0margs\u001b[0m\u001b[0;34m=\u001b[0m\u001b[0;34m(\u001b[0m\u001b[0mparams\u001b[0m\u001b[0;34m)\u001b[0m\u001b[0;34m)\u001b[0m\u001b[0;34m\u001b[0m\u001b[0;34m\u001b[0m\u001b[0m\n\u001b[0m\u001b[1;32m     10\u001b[0m \u001b[0moutput\u001b[0m \u001b[0;34m=\u001b[0m \u001b[0;36m1\u001b[0m\u001b[0;34m-\u001b[0m\u001b[0;34m(\u001b[0m\u001b[0msim_systemny\u001b[0m\u001b[0;34m[\u001b[0m\u001b[0;34m:\u001b[0m\u001b[0;34m,\u001b[0m\u001b[0;36m0\u001b[0m\u001b[0;34m]\u001b[0m\u001b[0;34m+\u001b[0m\u001b[0msim_systemny\u001b[0m\u001b[0;34m[\u001b[0m\u001b[0;34m:\u001b[0m\u001b[0;34m,\u001b[0m\u001b[0;36m1\u001b[0m\u001b[0;34m]\u001b[0m\u001b[0;34m)\u001b[0m\u001b[0;34m\u001b[0m\u001b[0;34m\u001b[0m\u001b[0m\n\u001b[1;32m     11\u001b[0m \u001b[0mmap_estimate\u001b[0m \u001b[0;34m=\u001b[0m \u001b[0mpm\u001b[0m\u001b[0;34m.\u001b[0m\u001b[0mfind_MAP\u001b[0m\u001b[0;34m(\u001b[0m\u001b[0mmodel\u001b[0m\u001b[0;34m=\u001b[0m\u001b[0mbasic_model\u001b[0m\u001b[0;34m)\u001b[0m\u001b[0;34m\u001b[0m\u001b[0;34m\u001b[0m\u001b[0m\n",
      "\u001b[0;32m/opt/anaconda3/lib/python3.7/site-packages/scipy/integrate/odepack.py\u001b[0m in \u001b[0;36modeint\u001b[0;34m(func, y0, t, args, Dfun, col_deriv, full_output, ml, mu, rtol, atol, tcrit, h0, hmax, hmin, ixpr, mxstep, mxhnil, mxordn, mxords, printmessg, tfirst)\u001b[0m\n\u001b[1;32m    243\u001b[0m                              \u001b[0mfull_output\u001b[0m\u001b[0;34m,\u001b[0m \u001b[0mrtol\u001b[0m\u001b[0;34m,\u001b[0m \u001b[0matol\u001b[0m\u001b[0;34m,\u001b[0m \u001b[0mtcrit\u001b[0m\u001b[0;34m,\u001b[0m \u001b[0mh0\u001b[0m\u001b[0;34m,\u001b[0m \u001b[0mhmax\u001b[0m\u001b[0;34m,\u001b[0m \u001b[0mhmin\u001b[0m\u001b[0;34m,\u001b[0m\u001b[0;34m\u001b[0m\u001b[0;34m\u001b[0m\u001b[0m\n\u001b[1;32m    244\u001b[0m                              \u001b[0mixpr\u001b[0m\u001b[0;34m,\u001b[0m \u001b[0mmxstep\u001b[0m\u001b[0;34m,\u001b[0m \u001b[0mmxhnil\u001b[0m\u001b[0;34m,\u001b[0m \u001b[0mmxordn\u001b[0m\u001b[0;34m,\u001b[0m \u001b[0mmxords\u001b[0m\u001b[0;34m,\u001b[0m\u001b[0;34m\u001b[0m\u001b[0;34m\u001b[0m\u001b[0m\n\u001b[0;32m--> 245\u001b[0;31m                              int(bool(tfirst)))\n\u001b[0m\u001b[1;32m    246\u001b[0m     \u001b[0;32mif\u001b[0m \u001b[0moutput\u001b[0m\u001b[0;34m[\u001b[0m\u001b[0;34m-\u001b[0m\u001b[0;36m1\u001b[0m\u001b[0;34m]\u001b[0m \u001b[0;34m<\u001b[0m \u001b[0;36m0\u001b[0m\u001b[0;34m:\u001b[0m\u001b[0;34m\u001b[0m\u001b[0;34m\u001b[0m\u001b[0m\n\u001b[1;32m    247\u001b[0m         \u001b[0mwarning_msg\u001b[0m \u001b[0;34m=\u001b[0m \u001b[0m_msgs\u001b[0m\u001b[0;34m[\u001b[0m\u001b[0moutput\u001b[0m\u001b[0;34m[\u001b[0m\u001b[0;34m-\u001b[0m\u001b[0;36m1\u001b[0m\u001b[0;34m]\u001b[0m\u001b[0;34m]\u001b[0m \u001b[0;34m+\u001b[0m \u001b[0;34m\" Run with full_output = 1 to get quantitative information.\"\u001b[0m\u001b[0;34m\u001b[0m\u001b[0;34m\u001b[0m\u001b[0m\n",
      "\u001b[0;31merror\u001b[0m: Extra arguments must be in a tuple"
     ]
    }
   ],
   "source": []
  },
  {
   "cell_type": "code",
   "execution_count": 30,
   "metadata": {},
   "outputs": [
    {
     "data": {
      "image/png": "[encoded data removed]",
      "text/plain": [
       "<Figure size 432x288 with 1 Axes>"
      ]
     },
     "metadata": {},
     "output_type": "display_data"
    }
   ],
   "source": [
    "#California\n",
    "\n",
    "r_californiaTSV = '../../california.tsv'\n",
    "w_californiaTSV = '../../california.tsv'\n",
    "tsv_read = pd.read_csv(\"california.tsv\", sep='\\t')\n",
    "cumulativeca = tsv_read['confirmed'] #is this what I want?\n",
    "california_pop = 39.51e6\n",
    "Nca = california_pop\n",
    "Sn_0  = 1-(Sa_0+yobsca[1]/Nca)\n",
    "Sa_0  = 0.005\n",
    "IS_0  = yobsca[1]/Nca\n",
    "IAn_0 = 0\n",
    "IAa_0 = 0\n",
    "RS_0  = 0\n",
    "RAn_0 = 0\n",
    "RAa_0 = 0\n",
    "M_0   = 0.01\n",
    "# Simulate the ODE\n",
    "initial_state = np.array([Sn_0,Sa_0,IS_0,IAn_0,IAa_0,RS_0,RAn_0,RAa_0,M_0])\n",
    "time = np.arange(0,176,.001)\n",
    "timeobs = np.arange(0,176,1)\n",
    "sim_system = odeint(ODE_models.SIRan_system, initial_state, time, args=(params,))\n",
    "\n",
    "y =1-(sim_system[:,0]+sim_system[:,1]) #take the integral of this from start to current time\n",
    "    \n",
    "yobsca = cumulativeca/Nca\n",
    "plt.plot(timeobs,yobsca, marker='o', linestyle='none')\n",
    "plt.plot(time, y, color='C0', alpha=0.5, label=f'$I(t)$')\n",
    "plt.legend()\n",
    "plt.title('California Cumulative')\n",
    "plt.show()\n"
   ]
  },
  {
   "cell_type": "code",
   "execution_count": 31,
   "metadata": {},
   "outputs": [
    {
     "data": {
      "text/plain": [
       "array([1.22124533e-15, 1.33226763e-15, 1.33226763e-15, ...,\n",
       "       1.75991303e-01, 1.76005692e-01, 1.76020081e-01])"
      ]
     },
     "execution_count": 31,
     "metadata": {},
     "output_type": "execute_result"
    }
   ],
   "source": []
  },
  {
   "cell_type": "code",
   "execution_count": null,
   "metadata": {},
   "outputs": [],
   "source": []
  }
 ],
 "metadata": {
  "kernelspec": {
   "display_name": "Python 3",
   "language": "python",
   "name": "python3"
  },
  "language_info": {
   "codemirror_mode": {
    "name": "ipython",
    "version": 3
   },
   "file_extension": ".py",
   "mimetype": "text/x-python",
   "name": "python",
   "nbconvert_exporter": "python",
   "pygments_lexer": "ipython3",
   "version": "3.7.6"
  }
 },
 "nbformat": 4,
 "nbformat_minor": 4
}
