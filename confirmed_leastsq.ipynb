{
 "cells": [
  {
   "cell_type": "code",
   "execution_count": 1,
   "metadata": {},
   "outputs": [],
   "source": [
    "%matplotlib inline\n",
    "import numpy as np\n",
    "import scipy.optimize as optimization\n",
    "from scipy.optimize import minimize\n",
    "import matplotlib.pyplot as plt\n",
    "from scipy.integrate import odeint\n",
    "import matplotlib\n",
    "import arviz as az\n",
    "import theano\n",
    "import ODE_models_forls\n",
    "import pandas as pd\n",
    "import scipy.integrate as integrate\n",
    "from scipy.integrate import quad\n",
    "plt.style.use('seaborn-darkgrid')"
   ]
  },
  {
   "cell_type": "code",
   "execution_count": 2,
   "metadata": {},
   "outputs": [],
   "source": [
    "r_newyorkTSV = '../../newyork.tsv'\n",
    "w_newyorkTSV = '../../newyork.tsv'\n",
    "tsv_readny = pd.read_csv(\"newyork.tsv\", sep='\\t')\n",
    "confirmed_rolling = tsv_readny['confirmed_rolling']"
   ]
  },
  {
   "cell_type": "code",
   "execution_count": 14,
   "metadata": {},
   "outputs": [
    {
     "data": {
      "image/png": "[encoded data removed]",
      "text/plain": [
       "<Figure size 432x288 with 1 Axes>"
      ]
     },
     "metadata": {},
     "output_type": "display_data"
    }
   ],
   "source": [
    "\n",
    "params = ODE_models_forls.get_params(beta_A= 6.57858429e-01,q= 1.54096654e-01, nu = 4.60989750e-01, m = 8.40464073e+01, rho= 8.47575878e+01)\n",
    "## Set initial conditions\n",
    "Nny= 19.4e6\n",
    "yobsny = confirmed_rolling/Nny\n",
    "Sn_0ny  = 1-(0.005+yobsny[0])\n",
    "Sa_0  = 0.005\n",
    "IS_0ny  = yobsny[0]\n",
    "\n",
    "#Sa_0  =  5.73566705e-01\n",
    "#IS_0ny  = 1.00000000e-10\n",
    "#Sn_0ny = 1-(Sa_0+IS_0ny)\n",
    "En_0 = 0\n",
    "Ea_0 = 0\n",
    "IAn_0 = 0\n",
    "IAa_0 = 0\n",
    "RS_0  = 0\n",
    "RAn_0 = 0\n",
    "RAa_0 = 0\n",
    "M_0   = 0.01\n",
    "\n",
    "#newyork\n",
    "initial_stateny = np.array([Sn_0ny,Sa_0,En_0, Ea_0,IS_0ny,IAn_0,IAa_0,RS_0,RAn_0,RAa_0,M_0])\n",
    "timeny = np.arange(0,140,.001)\n",
    "timeobsny = np.arange(0,140,1)\n",
    "sim_systemny = odeint(ODE_models_forls.SEIRan_system, initial_stateny, timeny, args=(params,))\n",
    "\n",
    "\n",
    "\n",
    "yny =sim_systemny[:,4]\n",
    "\n",
    "ypred = np.zeros(140)\n",
    "for i in range(0,140):\n",
    "    ind = np.where(timeny ==i)\n",
    "    ypred[i] = yny[ind]\n",
    "\n",
    "\n",
    "plt.plot(timeobsny,yobsny, color= 'red',marker='o', linestyle='none')\n",
    "plt.plot(timeny, yny, color='orange', alpha=0.5, label=f'$I(t)$')\n",
    "plt.legend()\n",
    "plt.title('New York')\n",
    "plt.show()"
   ]
  },
  {
   "cell_type": "code",
   "execution_count": 4,
   "metadata": {},
   "outputs": [],
   "source": [
    "#This is where the least squares is claculated for New York\n",
    "def SEfunc(params):\n",
    "    #SEfunc is a function that takes the parameters of the ODE models as an input and outputs the least squares value for the function at that time\n",
    "    #What I need is a fucntion that computes the least squares at the starting points for the values? I.e. if the function\n",
    "    #remained at those initial guesses\n",
    "    beta_A = params[0]\n",
    "    q= params[1]\n",
    "    nu=params[2]\n",
    "    m = params[3]\n",
    "    rho = params[4]\n",
    "    Sa_0 = params[5]\n",
    "    IS_0ny= params[6]\n",
    "    yobsny = np.array(confirmed_rolling/Nny)\n",
    "    Sn_0ny = 1-(Sa_0+IS_0ny)\n",
    "    En_0 = 0\n",
    "    Ea_0 = 0\n",
    "    IAn_0 = 0\n",
    "    IAa_0 = 0\n",
    "    RS_0  = 0\n",
    "    RAn_0 = 0\n",
    "    RAa_0 = 0\n",
    "    M_0   = 0.01\n",
    "    \n",
    "    \n",
    "    se_params = ODE_models_forls.get_params(beta_A= beta_A, q = q,nu = nu, m=m,rho=rho)\n",
    "\n",
    "   \n",
    "    initial_stateny = np.array([Sn_0ny,Sa_0,En_0, Ea_0,IS_0ny,IAn_0,IAa_0,RS_0,RAn_0,RAa_0,M_0])\n",
    "    timeny = np.arange(0,140,.001)\n",
    "    timeobsny = np.arange(0,140,1)\n",
    "    sim_systemny = odeint(ODE_models_forls.SEIRan_system, initial_stateny, timeny, args=(se_params,))\n",
    "    yny =sim_systemny[:,4]\n",
    "    \n",
    "    ypred = np.zeros(140)\n",
    "    for i in range(0,140):\n",
    "        ind = np.where(timeny ==i)\n",
    "        ypred[i] = yny[ind]\n",
    "    \n",
    "    SE = (ypred-yobsny)**2\n",
    "    sumSE = sum(SE)\n",
    "    return(sumSE)"
   ]
  },
  {
   "cell_type": "code",
   "execution_count": 5,
   "metadata": {},
   "outputs": [
    {
     "name": "stderr",
     "output_type": "stream",
     "text": [
      "/opt/anaconda3/lib/python3.7/site-packages/scipy/integrate/odepack.py:248: ODEintWarning: Excess work done on this call (perhaps wrong Dfun type). Run with full_output = 1 to get quantitative information.\n",
      "  warnings.warn(warning_msg, ODEintWarning)\n"
     ]
    }
   ],
   "source": [
    "import random as random\n",
    "sims = int(1e2)\n",
    "values = np.zeros((8,sims))\n",
    "for i in range(0,sims):\n",
    "    starting_points = np.zeros(7) #beta_a, q, nu, m, rho, S-a(0), I_s(0)\n",
    "    starting_points[0] = np.random.uniform(0,1)\n",
    "    starting_points[1] = np.random.uniform(0,1)\n",
    "    starting_points[2] = np.random.uniform(0,1)\n",
    "    starting_points[3] = np.random.uniform(20,1000)\n",
    "    starting_points[4] = np.random.uniform(0,100)\n",
    "    starting_points[5] = np.random.uniform(0,1)\n",
    "    starting_points[6] = np.random.uniform(0,1)\n",
    "    least_sq = SEfunc(starting_points)\n",
    "    values[0:6,i] = starting_points[0:6]\n",
    "    values[7,i] = least_sq\n",
    "    "
   ]
  },
  {
   "cell_type": "code",
   "execution_count": 6,
   "metadata": {},
   "outputs": [
    {
     "name": "stdout",
     "output_type": "stream",
     "text": [
      "53\n",
      "[6.57858429e-01 1.54096654e-01 4.60989750e-01 8.40464073e+01\n",
      " 8.47575878e+01 5.73566705e-01 0.00000000e+00 1.31726828e-02]\n"
     ]
    }
   ],
   "source": [
    "least = list(values[7])\n",
    "x=min(least)\n",
    "minimum = least.index(x)\n",
    "print(minimum)\n",
    "print(values[:,minimum])\n",
    "x0_ = values[:,minimum]"
   ]
  },
  {
   "cell_type": "code",
   "execution_count": 7,
   "metadata": {},
   "outputs": [],
   "source": [
    "x0=x0_[:7]\n",
    "\n",
    "result= optimization.least_squares(SEfunc, x0,bounds=(np.array([0,0,0,20,0,0,0]),np.array([1,1,1,1000,100,1,1])))"
   ]
  },
  {
   "cell_type": "code",
   "execution_count": 8,
   "metadata": {},
   "outputs": [
    {
     "name": "stdout",
     "output_type": "stream",
     "text": [
      " active_mask: array([ 0,  0,  0,  0,  0,  0, -1])\n",
      "        cost: 2.2655769421188926e-11\n",
      "         fun: array([6.73138462e-06])\n",
      "        grad: array([-3.36531234e-14,  2.76262409e-16,  2.11671699e-11,  1.28063724e-13,\n",
      "       -4.16217830e-14, -7.14333968e-12, -1.66271339e-05])\n",
      "         jac: array([[-4.99943553e-09,  4.10409484e-11,  3.14454917e-06,\n",
      "         1.90248710e-08, -6.18324243e-09, -1.06119916e-06,\n",
      "        -2.47009119e+00]])\n",
      "     message: '`xtol` termination condition is satisfied.'\n",
      "        nfev: 3\n",
      "        njev: 1\n",
      "  optimality: 1.6627133861856328e-05\n",
      "      status: 3\n",
      "     success: True\n",
      "           x: array([6.57858429e-01, 1.54096654e-01, 4.60989750e-01, 8.40464073e+01,\n",
      "       8.47575878e+01, 5.73566705e-01, 1.00000000e-10])\n"
     ]
    }
   ],
   "source": [
    "print(result)"
   ]
  },
  {
   "cell_type": "code",
   "execution_count": null,
   "metadata": {},
   "outputs": [],
   "source": []
  }
 ],
 "metadata": {
  "kernelspec": {
   "display_name": "Python 3",
   "language": "python",
   "name": "python3"
  },
  "language_info": {
   "codemirror_mode": {
    "name": "ipython",
    "version": 3
   },
   "file_extension": ".py",
   "mimetype": "text/x-python",
   "name": "python",
   "nbconvert_exporter": "python",
   "pygments_lexer": "ipython3",
   "version": "3.7.6"
  }
 },
 "nbformat": 4,
 "nbformat_minor": 4
}
