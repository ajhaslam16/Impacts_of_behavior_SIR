{
 "cells": [
  {
   "cell_type": "code",
   "execution_count": 1,
   "metadata": {},
   "outputs": [],
   "source": [
    "%matplotlib inline\n",
    "import numpy as np\n",
    "import scipy.optimize as optimization\n",
    "from scipy.optimize import minimize\n",
    "import matplotlib.pyplot as plt\n",
    "from scipy.integrate import odeint\n",
    "import matplotlib\n",
    "import arviz as az\n",
    "import theano\n",
    "import ODE_models\n",
    "import ODE_models_forls\n",
    "import pandas as pd\n",
    "import scipy.integrate as integrate\n",
    "from scipy.integrate import quad\n",
    "plt.style.use('seaborn-darkgrid')"
   ]
  },
  {
   "cell_type": "code",
   "execution_count": 2,
   "metadata": {},
   "outputs": [
    {
     "name": "stdout",
     "output_type": "stream",
     "text": [
      "0      1\n",
      "1      1\n",
      "2      2\n",
      "3     11\n",
      "4     22\n",
      "5     44\n",
      "6     89\n",
      "7    106\n",
      "8    142\n",
      "9    173\n",
      "Name: confirmed, dtype: int64\n",
      "[  1.   1.   2.  11.  22.  44.  89. 105. 141. 171.]\n"
     ]
    }
   ],
   "source": [
    "## Set initial conditions\n",
    "Nny= .1*19.4e6\n",
    "# We multiply population of NY state by 1/10 because only 1/10 of cases are detected.\n",
    "\n",
    "r_newyorkTSV = '../../newyork.tsv'\n",
    "w_newyorkTSV = '../../newyork.tsv'\n",
    "tsv_readny = pd.read_csv(\"newyork.tsv\", sep='\\t')\n",
    "confirmed = tsv_readny['confirmed']\n",
    "\n",
    "#I_S from data will be sum of confirmed today and 6 previous days since gamma = 7.\n",
    "I_S_from_data = np.zeros(140) \n",
    "for i in range(7):\n",
    "    I_S_from_data[i]=confirmed[i]\n",
    "for i in range(7,140):\n",
    "    I_S_from_data[i]=confirmed[i]-confirmed[i-7]\n",
    "print(confirmed[:10])\n",
    "print(I_S_from_data[:10])"
   ]
  },
  {
   "cell_type": "code",
   "execution_count": 3,
   "metadata": {},
   "outputs": [],
   "source": [
    "#This is where the least squares is claculated for New York\n",
    "def SEfunc(params):\n",
    "    #SEfunc is a function that takes the parameters of the ODE models as an input and outputs the least squares value for the function at that time\n",
    "    #What I need is a fucntion that computes the least squares at the starting points for the values? I.e. if the function\n",
    "    #remained at those initial guesses\n",
    "    \n",
    "    beta_A = params[0]\n",
    "    q= params[1]\n",
    "    nu=params[2]\n",
    "    m = params[3]\n",
    "    rho = params[4]\n",
    "    Sa_0 = params[5]\n",
    "    IS_0ny= params[6]\n",
    "    \n",
    "    Sn_0ny = 1-(Sa_0+IS_0ny)\n",
    "    En_0 = 0\n",
    "    Ea_0 = 0\n",
    "    IAn_0 = 0\n",
    "    IAa_0 = 0\n",
    "    RS_0  = 0\n",
    "    RAn_0 = 0\n",
    "    RAa_0 = 0\n",
    "    M_0   = 0.01\n",
    "    \n",
    "    yobsny = I_S_from_data/Nny\n",
    "    \n",
    "    se_params = ODE_models_forls.get_params(beta_A= beta_A, q = q,nu = nu, m=m,rho=rho)\n",
    "   \n",
    "    initial_stateny = np.array([Sn_0ny,Sa_0,En_0, Ea_0,IS_0ny,IAn_0,IAa_0,RS_0,RAn_0,RAa_0,M_0])\n",
    "    timeny = np.arange(0,140,.001)\n",
    "    timeobsny = np.arange(0,140,1)\n",
    "    sim_systemny = odeint(ODE_models_forls.SEIRan_system, initial_stateny, timeny, args=(se_params,))\n",
    "    yny =sim_systemny[:,4]\n",
    "    \n",
    "    ypred = np.zeros(140)\n",
    "    for i in range(0,140):\n",
    "        ind = np.where(timeny ==i)\n",
    "        ypred[i] = yny[ind]\n",
    "    \n",
    "    SE = (ypred-yobsny)**2\n",
    "    sumSE = sum(SE)\n",
    "    return(sumSE)"
   ]
  },
  {
   "cell_type": "code",
   "execution_count": 4,
   "metadata": {},
   "outputs": [
    {
     "name": "stderr",
     "output_type": "stream",
     "text": [
      "/opt/anaconda3/lib/python3.7/site-packages/scipy/integrate/odepack.py:248: ODEintWarning: Excess work done on this call (perhaps wrong Dfun type). Run with full_output = 1 to get quantitative information.\n",
      "  warnings.warn(warning_msg, ODEintWarning)\n"
     ]
    }
   ],
   "source": [
    "import random as random\n",
    "sims = int(1e2)\n",
    "values = np.zeros((8,sims))\n",
    "for i in range(0,sims):\n",
    "    starting_points = np.zeros(7) #beta_A, q, nu, m, rho, S_a(0), I_s(0)\n",
    "    starting_points[0] = np.random.uniform(0,1)\n",
    "    starting_points[1] = np.random.uniform(0,.8)\n",
    "    starting_points[2] = np.random.uniform(0,1)\n",
    "    starting_points[3] = np.random.uniform(10,100)\n",
    "    starting_points[4] = np.random.uniform(0,100)\n",
    "    starting_points[5] = np.random.uniform(0,1)\n",
    "    starting_points[6] = np.random.uniform(0,.001)\n",
    "    sum_of_squares = SEfunc(starting_points)\n",
    "    values[0:7,i] = starting_points[0:7]\n",
    "    values[7,i] = sum_of_squares\n",
    "    "
   ]
  },
  {
   "cell_type": "code",
   "execution_count": 5,
   "metadata": {},
   "outputs": [
    {
     "name": "stdout",
     "output_type": "stream",
     "text": [
      "15\n",
      "[8.42094420e-01 5.64328119e-01 2.93172238e-01 9.26917522e+01\n",
      " 5.41079495e+01 7.52447441e-01 4.06377069e-04 2.33366088e-03]\n"
     ]
    }
   ],
   "source": [
    "sums_of_squares = list(values[7])\n",
    "x=min(sums_of_squares)\n",
    "minimum = sums_of_squares.index(x)\n",
    "print(minimum)\n",
    "print(values[:,minimum])\n",
    "x0_ = values[:,minimum]"
   ]
  },
  {
   "cell_type": "code",
   "execution_count": 6,
   "metadata": {},
   "outputs": [
    {
     "name": "stdout",
     "output_type": "stream",
     "text": [
      " active_mask: array([0, 0, 0, 0, 0, 0, 0])\n",
      "        cost: 1.712019747437937e-06\n",
      "         fun: array([0.00185042])\n",
      "        grad: array([ 134.76173906,  134.74872555,  964.14193539,   10.65007846,\n",
      "         18.66952706, 1010.18258016, 1010.16943232])\n",
      "         jac: array([[ 72827.8055666 ,  72820.77281798, 521040.62991305,\n",
      "          5755.50485696,  10089.36732633, 545921.86956559,\n",
      "        545914.76421914]])\n",
      "     message: '`xtol` termination condition is satisfied.'\n",
      "        nfev: 2\n",
      "        njev: 1\n",
      "  optimality: 1010.1698268642507\n",
      "      status: 3\n",
      "     success: True\n",
      "           x: array([8.42094420e-01, 5.64328119e-01, 2.93172238e-01, 9.26917522e+01,\n",
      "       5.41079495e+01, 7.52447441e-01, 4.06377069e-04])\n"
     ]
    }
   ],
   "source": [
    "x0=x0_[:7]\n",
    "\n",
    "result= optimization.least_squares(SEfunc, x0,bounds=(np.array([0,0,0,10,0,0,0]),np.array([1,1,1,100,100,1,.001])))\n",
    "print(result)"
   ]
  },
  {
   "cell_type": "code",
   "execution_count": 7,
   "metadata": {},
   "outputs": [
    {
     "name": "stdout",
     "output_type": "stream",
     "text": [
      "[8.42094420e-01 5.64328119e-01 2.93172238e-01 9.26917522e+01\n",
      " 5.41079495e+01 7.52447441e-01 4.06377069e-04]\n"
     ]
    }
   ],
   "source": [
    "new_params=result['x']\n",
    "print(new_params)"
   ]
  },
  {
   "cell_type": "code",
   "execution_count": 8,
   "metadata": {},
   "outputs": [
    {
     "data": {
      "image/png": "[encoded data removed]",
      "text/plain": [
       "<Figure size 432x288 with 1 Axes>"
      ]
     },
     "metadata": {},
     "output_type": "display_data"
    }
   ],
   "source": [
    "params = ODE_models.get_params(beta_S = 0.7,beta_A= new_params[0], \\\n",
    "    gamma = 1/7,q= new_params[1], nu = new_params[2], m = new_params[3], \\\n",
    "    rho= new_params[4], dealthdelt = 0.02, xi = 1/3, p =1/3)\n",
    "\n",
    "\n",
    "yobsny = I_S_from_data/Nny\n",
    "Sn_0ny  = 1-(new_params[5]+new_params[6])\n",
    "Sa_0  = new_params[5]\n",
    "En_0 = 0\n",
    "Ea_0 = 0\n",
    "IS_0ny  = new_params[6]\n",
    "IAn_0 = 0\n",
    "IAa_0 = 0\n",
    "RS_0  = 0\n",
    "RAn_0 = 0\n",
    "RAa_0 = 0\n",
    "M_0   = 0.01\n",
    "\n",
    "#newyork\n",
    "initial_stateny = np.array([Sn_0ny,Sa_0,En_0, Ea_0,IS_0ny,IAn_0,IAa_0,RS_0,RAn_0,RAa_0,M_0])\n",
    "timeny = np.arange(0,140,.001)\n",
    "timeobsny = np.arange(0,140,1)\n",
    "sim_systemny = odeint(ODE_models.SEIRan_system, initial_stateny, timeny, args=(params,))\n",
    "\n",
    "# computed infected symptomatic\n",
    "yny =sim_systemny[:,4]\n",
    "\n",
    "# computed infected symptomatic at intervals of 1 day\n",
    "ypred = np.zeros(140)\n",
    "for i in range(0,140):\n",
    "    ind = np.where(timeny ==i)\n",
    "    ypred[i] = yny[ind]\n",
    "\n",
    "\n",
    "plt.plot(timeobsny,yobsny, color= 'red',marker='o', linestyle='none')\n",
    "plt.plot(timeny, yny, color='orange', alpha=0.5, label=f'$I(t)$')\n",
    "plt.legend(('New York State Confirmed Infected', 'Symptomatic Infected Model Output'))\n",
    "plt.title('New York')\n",
    "plt.xlabel(\"Days\")\n",
    "plt.ylabel(\"Proportion of Pop. Symptomatic Infected\")\n",
    "plt.show()"
   ]
  },
  {
   "cell_type": "code",
   "execution_count": 9,
   "metadata": {},
   "outputs": [
    {
     "data": {
      "image/png": "[encoded data removed]",
      "text/plain": [
       "<Figure size 432x288 with 1 Axes>"
      ]
     },
     "metadata": {},
     "output_type": "display_data"
    }
   ],
   "source": [
    "plt.plot(sim_systemny[:,0],color=\"red\")  #susceptibles\n",
    "plt.plot(sim_systemny[:,1],color=\"blue\")  #infective symptomatic\n",
    "plt.plot(sim_systemny[:,10],color=\"orange\")  #memory\n",
    "plt.show()"
   ]
  },
  {
   "cell_type": "code",
   "execution_count": null,
   "metadata": {},
   "outputs": [],
   "source": []
  }
 ],
 "metadata": {
  "kernelspec": {
   "display_name": "Python 3",
   "language": "python",
   "name": "python3"
  },
  "language_info": {
   "codemirror_mode": {
    "name": "ipython",
    "version": 3
   },
   "file_extension": ".py",
   "mimetype": "text/x-python",
   "name": "python",
   "nbconvert_exporter": "python",
   "pygments_lexer": "ipython3",
   "version": "3.7.6"
  }
 },
 "nbformat": 4,
 "nbformat_minor": 4
}
